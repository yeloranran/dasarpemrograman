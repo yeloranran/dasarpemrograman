{
 "cells": [
  {
   "cell_type": "markdown",
   "metadata": {},
   "source": [
    "#Nama   : Adinda Rahmawati\n",
    "#NIM    : J0403231050\n",
    "#Kelas  : B-1\n",
    "#Prodi  : Teknologi Rekayasa Perangkat Lunak\n",
    "#Email  : rahmawati4487@gmail.com"
   ]
  },
  {
   "cell_type": "markdown",
   "metadata": {},
   "source": [
    "Built-in Methods of Dictionaries - Example"
   ]
  },
  {
   "cell_type": "code",
   "execution_count": null,
   "metadata": {},
   "outputs": [],
   "source": [
    "dict1={1:'a',2:'e',3:'i',4:'o',5:'u'}\n",
    "print(dict1.get(4))\n",
    "print(dict1.keys())\n",
    "print(dict1.values())\n",
    "print(dict1.items())\n",
    "\n",
    "var1=dict1.pop(2)\n",
    "print(\"The value of var1 is:\",var1)\n",
    "\n",
    "var2=dict1.popitem()\n",
    "print(\"The value of var2 is:\",var2)\n",
    "\n",
    "dict1.clear()"
   ]
  },
  {
   "cell_type": "markdown",
   "metadata": {},
   "source": [
    "Output :\n",
    "o\n",
    "dict_keys([1, 2, 3, 4, 5])\n",
    "dict_values(['a', 'e', 'i', 'o', 'u'])\n",
    "dict_items([(1, 'a'), (2, 'e'), (3, 'i'), (4, 'o'), (5, 'u')])\n",
    "The value of var1 is: e\n",
    "The value of var2 is: (5, 'u')"
   ]
  },
  {
   "cell_type": "markdown",
   "metadata": {},
   "source": []
  },
  {
   "cell_type": "markdown",
   "metadata": {},
   "source": [
    "Accessing Values in Dictionary"
   ]
  },
  {
   "cell_type": "code",
   "execution_count": null,
   "metadata": {},
   "outputs": [],
   "source": [
    "dict = {'Name': 'Zara', 'Age': 7, 'Class': 'First'}\n",
    "\n",
    "print (\"dict['Name']: \", dict['Name'])\n",
    "print (\"dict['Age']: \", dict['Age'])"
   ]
  },
  {
   "cell_type": "markdown",
   "metadata": {},
   "source": [
    "Output :\n",
    "dict['Name']:  Zara\n",
    "dict['Age']:  7"
   ]
  },
  {
   "cell_type": "markdown",
   "metadata": {},
   "source": []
  },
  {
   "cell_type": "markdown",
   "metadata": {},
   "source": [
    "Updating Dictionary"
   ]
  },
  {
   "cell_type": "code",
   "execution_count": null,
   "metadata": {},
   "outputs": [],
   "source": [
    "dict = {'Name': 'Zara', 'Age': 7, 'Class': 'First'}\n",
    "dict['Age'] = 8; # update existing entry\n",
    "dict['School'] = \"DPS School\"; # Add new entry\n",
    "\n",
    "print (\"dict['Age']: \", dict['Age'])\n",
    "print (\"dict['School']: \", dict['School'])"
   ]
  },
  {
   "cell_type": "markdown",
   "metadata": {},
   "source": [
    "Output :\n",
    "dict['Age']:  8\n",
    "dict['School']:  DPS School"
   ]
  },
  {
   "cell_type": "markdown",
   "metadata": {},
   "source": []
  },
  {
   "cell_type": "markdown",
   "metadata": {},
   "source": [
    "Delete Dictionary Elements"
   ]
  },
  {
   "cell_type": "code",
   "execution_count": null,
   "metadata": {},
   "outputs": [],
   "source": [
    "dict = {'Name': 'Zara', 'Age': 7, 'Class': 'First'}\n",
    "del dict['Name']; # remove entry with key 'Name'\n",
    "dict.clear(); # remove all entries in dict\n",
    "del dict ; # delete entire dictionary\n",
    "\n",
    "# an exception is raised here because after del dict dictionary does not exist any more :\n",
    "print (\"dict['Age']: \", dict['Age'])\n",
    "print (\"dict['School']: \", dict['School'])"
   ]
  },
  {
   "cell_type": "markdown",
   "metadata": {},
   "source": [
    "Output :\n",
    "dict['Age']:  dict['Age']\n",
    "dict['School']:  dict['School']"
   ]
  },
  {
   "cell_type": "markdown",
   "metadata": {},
   "source": []
  },
  {
   "cell_type": "markdown",
   "metadata": {},
   "source": [
    "Common Ways to Loop through a Dictionary"
   ]
  },
  {
   "cell_type": "code",
   "execution_count": null,
   "metadata": {},
   "outputs": [],
   "source": [
    "# Creating a sample dictionary\n",
    "my_dict = {\"name\": \"Alice\", \"age\": 25, \"city\": \"New York\"}\n",
    "\n",
    "# Method 1: Loop through keys and access values\n",
    "for key in my_dict:\n",
    " print(key, \"->\", my_dict[key])\n",
    "\n",
    "# Method 2: Loop through keys and values using .items()\n",
    "for key, value in my_dict.items():\n",
    " print(key, \"->\", value)\n",
    "\n",
    "# Method 3: Loop through keys using .keys() (less common)\n",
    "for key in my_dict.keys():\n",
    " print(key, \"->\", my_dict[key])\n",
    "       \n",
    "# Method 4: Loop through values using .values()\n",
    "for value in my_dict.values():\n",
    " print(value)"
   ]
  },
  {
   "cell_type": "markdown",
   "metadata": {},
   "source": [
    "Output :\n",
    "name -> Alice\n",
    "age -> 25\n",
    "city -> New York\n",
    "name -> Alice\n",
    "age -> 25\n",
    "city -> New York\n",
    "name -> Alice\n",
    "age -> 25\n",
    "city -> New York\n",
    "Alice\n",
    "25\n",
    "New York"
   ]
  },
  {
   "cell_type": "markdown",
   "metadata": {},
   "source": []
  },
  {
   "cell_type": "markdown",
   "metadata": {},
   "source": [
    "Properties of Dictionary Keys"
   ]
  },
  {
   "cell_type": "code",
   "execution_count": null,
   "metadata": {},
   "outputs": [],
   "source": [
    "dict = {'Name': 'Zara', 'Age': 7, 'Name': 'Manni'}\n",
    "print (\"dict['Name']: \", dict['Name']) "
   ]
  },
  {
   "cell_type": "markdown",
   "metadata": {},
   "source": [
    "Output : dict['Name']: Manni"
   ]
  }
 ],
 "metadata": {
  "kernelspec": {
   "display_name": "Python 3",
   "language": "python",
   "name": "python3"
  },
  "language_info": {
   "name": "python",
   "version": "3.11.6"
  },
  "orig_nbformat": 4
 },
 "nbformat": 4,
 "nbformat_minor": 2
}
