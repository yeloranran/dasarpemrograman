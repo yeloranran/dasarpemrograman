{
 "cells": [
  {
   "cell_type": "markdown",
   "metadata": {},
   "source": [
    "#Nama   : Adinda Rahmawati\n",
    "#NIM    : J0403231050\n",
    "#Kelas  : B-1\n",
    "#Prodi  : Teknologi Rekayasa Perangkat Lunak\n",
    "#Email  : rahmawati4487@gmail.com"
   ]
  },
  {
   "cell_type": "markdown",
   "metadata": {},
   "source": [
    "Examples of using Built-in Methods"
   ]
  },
  {
   "cell_type": "code",
   "execution_count": null,
   "metadata": {},
   "outputs": [],
   "source": [
    "# append(x) - Adds an element to the end of the list\n",
    "# Initialize a sample list\n",
    "my_list = [1, 2, 3, 4, 3, 5]\n",
    "\n",
    "# append(x) - Adds an element to the end of the list\n",
    "my_list.append(6)\n",
    "print(my_list)"
   ]
  },
  {
   "cell_type": "markdown",
   "metadata": {},
   "source": [
    "Output: [1, 2, 3, 4, 3, 5, 6]"
   ]
  },
  {
   "cell_type": "code",
   "execution_count": null,
   "metadata": {},
   "outputs": [],
   "source": [
    "# extend(iterable) - Extends the list with elements from another iterable\n",
    "my_list = [1, 2, 3, 4, 3, 5]\n",
    "\n",
    "my_list.extend([7, 8, 9])\n",
    "print(my_list)"
   ]
  },
  {
   "cell_type": "markdown",
   "metadata": {},
   "source": [
    " Output: [1, 2, 3, 4, 3, 5, 6, 7, 8, 9]"
   ]
  },
  {
   "cell_type": "code",
   "execution_count": null,
   "metadata": {},
   "outputs": [],
   "source": [
    "# insert(i, x) - Inserts an element at a specified index\n",
    "my_list = [1, 2, 3, 4, 3, 5]\n",
    "\n",
    "my_list.insert(2, 10)\n",
    "print(my_list)"
   ]
  },
  {
   "cell_type": "markdown",
   "metadata": {},
   "source": [
    "Output: [1, 2, 10, 3, 4, 3, 5, 6, 7, 8, 9]"
   ]
  },
  {
   "cell_type": "code",
   "execution_count": null,
   "metadata": {},
   "outputs": [],
   "source": [
    "# remove(x) - Removes the first occurrence of an element\n",
    "my_list = [1, 2, 3, 4, 3, 5]\n",
    "\n",
    "my_list.remove(3)\n",
    "print(my_list) "
   ]
  },
  {
   "cell_type": "markdown",
   "metadata": {},
   "source": [
    " Output: [1, 2, 10, 4, 3, 5, 6, 7, 8, 9]"
   ]
  },
  {
   "cell_type": "code",
   "execution_count": null,
   "metadata": {},
   "outputs": [],
   "source": [
    "# clear() - Removes all elements from the list\n",
    "my_list = [1, 2, 3, 4, 3, 5]\n",
    "\n",
    "my_list.clear()\n",
    "print(my_list) "
   ]
  },
  {
   "cell_type": "markdown",
   "metadata": {},
   "source": [
    "Output: []"
   ]
  },
  {
   "cell_type": "code",
   "execution_count": null,
   "metadata": {},
   "outputs": [],
   "source": [
    "# index(x[, start[, end]]) - Returns the index of the first occurrence of an element\n",
    "my_list = [1, 2, 3, 4, 3, 5]\n",
    "\n",
    "index = my_list.index(3)\n",
    "print(f\"Index of 3: {index}\")"
   ]
  },
  {
   "cell_type": "markdown",
   "metadata": {},
   "source": [
    "Output: Index of 3: 2"
   ]
  },
  {
   "cell_type": "code",
   "execution_count": null,
   "metadata": {},
   "outputs": [],
   "source": [
    "# count(x) - Returns the number of occurrences of an element\n",
    "my_list = [1, 2, 3, 4, 3, 5]\n",
    "\n",
    "count = my_list.count(3)\n",
    "print(f\"Count of 3: {count}\")"
   ]
  },
  {
   "cell_type": "markdown",
   "metadata": {},
   "source": [
    "Output: Count of 3: 2"
   ]
  },
  {
   "cell_type": "code",
   "execution_count": null,
   "metadata": {},
   "outputs": [],
   "source": [
    "# sort(key=None, reverse=False) - Sorts the list in ascending order\n",
    "my_list = [1, 2, 3, 4, 3, 5]\n",
    "\n",
    "my_list.sort()\n",
    "print(my_list) "
   ]
  },
  {
   "cell_type": "markdown",
   "metadata": {},
   "source": [
    "Output: [1, 2, 3, 3, 4, 5]"
   ]
  },
  {
   "cell_type": "code",
   "execution_count": null,
   "metadata": {},
   "outputs": [],
   "source": [
    "# reverse() - Reverses the order of elements\n",
    "my_list = [1, 2, 3, 4, 3, 5]\n",
    "\n",
    "my_list.reverse()\n",
    "print(my_list)"
   ]
  },
  {
   "cell_type": "markdown",
   "metadata": {},
   "source": [
    " Output: [5, 4, 3, 3, 2, 1]"
   ]
  },
  {
   "cell_type": "code",
   "execution_count": null,
   "metadata": {},
   "outputs": [],
   "source": [
    "# copy() - Creates a shallow copy of the list\n",
    "my_list = [1, 2, 3, 4, 3, 5]\n",
    "\n",
    "copy_of_list = my_list.copy()\n",
    "print(copy_of_list)"
   ]
  },
  {
   "cell_type": "markdown",
   "metadata": {},
   "source": [
    "Output: [1, 2, 3, 3, 4, 5]"
   ]
  },
  {
   "cell_type": "code",
   "execution_count": null,
   "metadata": {},
   "outputs": [],
   "source": [
    "# len(list) - Returns the number of elements in the list\n",
    "my_list = [1, 2, 3, 4, 3, 5]\n",
    "\n",
    "length = len(my_list)\n",
    "print(f\"Length of the list: {length}\") "
   ]
  },
  {
   "cell_type": "markdown",
   "metadata": {},
   "source": [
    " Output: Length of the list: 6"
   ]
  },
  {
   "cell_type": "markdown",
   "metadata": {},
   "source": []
  },
  {
   "cell_type": "markdown",
   "metadata": {},
   "source": [
    "Creating Python lists"
   ]
  },
  {
   "cell_type": "code",
   "execution_count": null,
   "metadata": {},
   "outputs": [],
   "source": [
    "list1=[] # creating an empty list\n",
    "list2=[1,2.4,'abc',(1,2),[6,78,9]] # creating a list of different values\n",
    "print(\"The type of\",list1,\"is:\",type(list1))\n",
    "print(\"The type of\",list2,\"is:\",type(list2))"
   ]
  },
  {
   "cell_type": "markdown",
   "metadata": {},
   "source": [
    "output : \n",
    "The type of [] is: <class 'list'>\n",
    "The type of [1, 2.4, 'abc', (1, 2), [6, 78, 9]] is: <class 'list'>"
   ]
  },
  {
   "cell_type": "markdown",
   "metadata": {},
   "source": []
  },
  {
   "cell_type": "markdown",
   "metadata": {},
   "source": [
    "Accessing an element from the Python list"
   ]
  },
  {
   "cell_type": "code",
   "execution_count": null,
   "metadata": {},
   "outputs": [],
   "source": [
    "list_1=[1,3,5.6,'a',\"PythonGeeks\",0.4]\n",
    "print(list_1[3]) # accessing the 4th element\n",
    "print(list_1) # accessing the whole list\n",
    "print(list_1[-2]) # printing the last 2nd element"
   ]
  },
  {
   "cell_type": "markdown",
   "metadata": {},
   "source": [
    "output : \n",
    "a\n",
    "[1, 3, 5.6, 'a', 'PythonGeeks', 0.4]\n",
    "PythonGeeks"
   ]
  },
  {
   "cell_type": "markdown",
   "metadata": {},
   "source": []
  },
  {
   "cell_type": "markdown",
   "metadata": {},
   "source": [
    "Slicing the list in Python"
   ]
  },
  {
   "cell_type": "code",
   "execution_count": null,
   "metadata": {},
   "outputs": [],
   "source": [
    "list_1=[1,3,5.6,'a',\"PythonGeeks\",0.4]\n",
    "print(\"list_1[2:5] =\",list_1[2:5]) # slicing 3rd to 5th element\n",
    "print(\"list_1[:] =\",list_1[:]) # getting entire list\n",
    "print(\"list_1[-5:-2] =\",list_1[-5:-2]) # slicing last 5th to 3rd element\n",
    "print(\"list_1[3:] =\",list_1[3:]) # slicing all elements after 3rd one\n",
    "print(\"list_1[-3:] =\",list_1[-3:]) # slicing all elements after last 3rd one\n",
    "print(\"list_1[:2] =\",list_1[:2]) # slicing all elements till 2nd one\n",
    "print(\"list_1[:-2] =\",list_1[:-2])# slicing all elements till last 2nd one"
   ]
  },
  {
   "cell_type": "markdown",
   "metadata": {},
   "source": [
    "output :\n",
    "list_1[2:5] = [5.6, 'a', 'PythonGeeks']\n",
    "list_1[:] = [1, 3, 5.6, 'a', 'PythonGeeks', 0.4]\n",
    "list_1[-5:-2] = [3, 5.6, 'a']\n",
    "list_1[3:] = ['a', 'PythonGeeks', 0.4]\n",
    "list_1[-3:] = ['a', 'PythonGeeks', 0.4]\n",
    "list_1[:2] = [1, 3]\n",
    "list_1[:-2] = [1, 3, 5.6, 'a']"
   ]
  },
  {
   "cell_type": "markdown",
   "metadata": {},
   "source": []
  },
  {
   "cell_type": "markdown",
   "metadata": {},
   "source": [
    "Modifying and deleting from Python List"
   ]
  },
  {
   "cell_type": "code",
   "execution_count": null,
   "metadata": {},
   "outputs": [],
   "source": [
    "# Create a list\n",
    "my_list = [1, 2, 3, 4, 5]\n",
    "\n",
    "# Modify an element using indexing\n",
    "my_list[2] = 10\n",
    "print(\"After modifying using indexing:\", my_list) \n",
    "\n",
    "# Modify a range of elements using slicing\n",
    "my_list[1:4] = [20, 30, 40]\n",
    "print(\"After modifying using slicing:\", my_list)\n",
    "\n",
    "# Delete an element using indexing\n",
    "del my_list[2]\n",
    "print(\"After deleting using indexing:\", my_list) \n",
    "\n",
    "# Delete a range of elements using slicing\n",
    "my_list[1:4] = []\n",
    "print(\"After deleting using slicing:\", my_list) \n",
    "\n",
    "# Delete the entire list\n",
    "del my_list\n",
    "\n",
    "# Now, my_list is no longer defined\n"
   ]
  },
  {
   "cell_type": "markdown",
   "metadata": {},
   "source": [
    "Output :\n",
    "After modifying using indexing: [1, 2, 10, 4, 5]\n",
    "After modifying using slicing: [1, 20, 30, 40, 5]\n",
    "After deleting using indexing: [1, 20, 40, 5]\n",
    "After deleting using slicing: [1]"
   ]
  },
  {
   "cell_type": "markdown",
   "metadata": {},
   "source": []
  },
  {
   "cell_type": "markdown",
   "metadata": {},
   "source": [
    "Common Ways to Loop Through a List"
   ]
  },
  {
   "cell_type": "code",
   "execution_count": null,
   "metadata": {},
   "outputs": [],
   "source": [
    "# Create a sample list\n",
    "my_list = [1, 2, 3, 4, 5]\n",
    "\n",
    "# Method 1: Loop through the list and print each element\n",
    "for item in my_list:\n",
    " print(item)"
   ]
  },
  {
   "cell_type": "markdown",
   "metadata": {},
   "source": [
    "Output : \n",
    "1\n",
    "2\n",
    "3\n",
    "4\n",
    "5"
   ]
  },
  {
   "cell_type": "code",
   "execution_count": null,
   "metadata": {},
   "outputs": [],
   "source": [
    "# Method 2: Loop through the list with index using enumerate()\n",
    "my_list = [1, 2, 3, 4, 5]\n",
    "\n",
    "for index, item in enumerate(my_list):\n",
    " print(f\"Index {index}: {item}\")"
   ]
  },
  {
   "cell_type": "markdown",
   "metadata": {},
   "source": [
    "Output : \n",
    "Index 0: 1\n",
    "Index 1: 2\n",
    "Index 2: 3\n",
    "Index 3: 4\n",
    "Index 4: 5"
   ]
  },
  {
   "cell_type": "code",
   "execution_count": null,
   "metadata": {},
   "outputs": [],
   "source": [
    "# Method 3: Loop through the list in reverse order\n",
    "my_list = [1, 2, 3, 4, 5]\n",
    "\n",
    "for item in reversed(my_list):\n",
    " print(item)"
   ]
  },
  {
   "cell_type": "markdown",
   "metadata": {},
   "source": [
    "Output :\n",
    "5\n",
    "4\n",
    "3\n",
    "2\n",
    "1"
   ]
  },
  {
   "cell_type": "markdown",
   "metadata": {},
   "source": []
  },
  {
   "cell_type": "markdown",
   "metadata": {},
   "source": [
    "List Comprehension in Python"
   ]
  },
  {
   "cell_type": "code",
   "execution_count": null,
   "metadata": {},
   "outputs": [],
   "source": [
    "# Sample 1:\n",
    "list1=[1,-2,3,-4,5]\n",
    "list2=[x**2 for x in list1]\n",
    "print(list2)\n",
    "\n",
    "# Sample 2 (with condition):\n",
    "fruits = [\"apple\", \"banana\", \"cherry\", \"kiwi\", \"mango\"]\n",
    "newlist = [x if x != \"banana\" else \"orange\" for x in fruits]\n",
    "print(newlist)"
   ]
  },
  {
   "cell_type": "markdown",
   "metadata": {},
   "source": [
    "Output :\n",
    "[1, 4, 9, 16, 25]\n",
    "['apple', 'orange', 'cherry', 'kiwi', 'mango']"
   ]
  },
  {
   "cell_type": "markdown",
   "metadata": {},
   "source": []
  },
  {
   "cell_type": "markdown",
   "metadata": {},
   "source": [
    "Unpacking the List"
   ]
  },
  {
   "cell_type": "code",
   "execution_count": null,
   "metadata": {},
   "outputs": [],
   "source": [
    "emp_info=['Python',5,'Developer']\n",
    "#List unpacking\n",
    "\n",
    "skill,exp,role=emp_info\n",
    "\n",
    "print (skill) \n",
    "print (exp) \n",
    "print (role) "
   ]
  },
  {
   "cell_type": "markdown",
   "metadata": {},
   "source": [
    "Output : \n",
    "Python\n",
    "5\n",
    "Developer"
   ]
  },
  {
   "cell_type": "markdown",
   "metadata": {},
   "source": []
  },
  {
   "cell_type": "markdown",
   "metadata": {},
   "source": [
    "Using Lists as Stacks"
   ]
  },
  {
   "cell_type": "code",
   "execution_count": null,
   "metadata": {},
   "outputs": [],
   "source": [
    "# Initialize an empty stack to represent the browser history\n",
    "browser_history = []\n",
    "\n",
    "# Simulate user browsing by pushing visited pages onto the stack\n",
    "browser_history.append(\"Homepage\")\n",
    "browser_history.append(\"About Us\")\n",
    "browser_history.append(\"Products\")\n",
    "browser_history.append(\"Contact Us\")\n",
    "\n",
    "# User clicks the back button\n",
    "if len(browser_history) > 0:\n",
    " current_page = browser_history.pop()\n",
    " print(\"User clicked the back button. Navigating to:\", current_page)\n",
    "\n",
    "# User continues browsing and adds more pages to the history\n",
    "browser_history.append(\"FAQs\")\n",
    "browser_history.append(\"Blog\")\n",
    "\n",
    "# User clicks the back button again\n",
    "if len(browser_history) > 0:\n",
    " current_page = browser_history.pop()\n",
    " print(\"User clicked the back button. Navigating to:\", current_page)\n",
    "\n",
    "# At this point, the browser history would contain [\"Homepage\", \"About Us\", \"Products\", \"Contact Us\", \"FAQs\"]."
   ]
  },
  {
   "cell_type": "markdown",
   "metadata": {},
   "source": [
    "Output :\n",
    "User clicked the back button. Navigating to: Contact Us\n",
    "User clicked the back button. Navigating to: Blog"
   ]
  },
  {
   "cell_type": "markdown",
   "metadata": {},
   "source": []
  },
  {
   "cell_type": "markdown",
   "metadata": {},
   "source": [
    "Using Lists as Queue"
   ]
  },
  {
   "cell_type": "code",
   "execution_count": null,
   "metadata": {},
   "outputs": [],
   "source": [
    "queue = ['Person 1','Person 2'] \n",
    " \n",
    "# Adding elements to the queue \n",
    "queue.append('Person 3') \n",
    " \n",
    "print(\"\\nQueue before:\") \n",
    "print(queue) \n",
    " \n",
    "# Removing elements from the queue \n",
    "print(\"\\nElements dequeued from queue : \", queue.pop(0)) \n",
    " \n",
    "print(\"\\nQueue after:\") \n",
    "print(queue)"
   ]
  },
  {
   "cell_type": "markdown",
   "metadata": {},
   "source": [
    "Output : \n",
    "Queue before:\n",
    "['Person 1', 'Person 2', 'Person 3']\n",
    "\n",
    "Elements dequeued from queue :  Person 1\n",
    "\n",
    "Queue after:\n",
    "['Person 2', 'Person 3']"
   ]
  }
 ],
 "metadata": {
  "kernelspec": {
   "display_name": "Python 3",
   "language": "python",
   "name": "python3"
  },
  "language_info": {
   "name": "python",
   "version": "3.11.6"
  },
  "orig_nbformat": 4
 },
 "nbformat": 4,
 "nbformat_minor": 2
}
