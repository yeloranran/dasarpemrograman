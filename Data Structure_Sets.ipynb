{
  "cells": [
    {
      "cell_type": "markdown",
      "metadata": {
        "id": "Akl-3FzX6b7Y"
      },
      "source": [
        "#Nama   : Adinda Rahmawati\n",
        "#NIM    : J0403231050\n",
        "#Kelas  : B-1\n",
        "#Prodi  : Teknologi Rekayasa Perangkat Lunak\n",
        "#Email  : rahmawati4487@gmail.com"
      ]
    },
    {
      "cell_type": "markdown",
      "metadata": {
        "id": "NJ5crIZt6grO"
      },
      "source": [
        "CREATING A SET"
      ]
    },
    {
      "cell_type": "code",
      "execution_count": 1,
      "metadata": {
        "colab": {
          "base_uri": "https://localhost:8080/"
        },
        "id": "o9Q233RG6ic1",
        "outputId": "24728015-289a-4678-dcec-bebb6c3a7991"
      },
      "outputs": [
        {
          "name": "stdout",
          "output_type": "stream",
          "text": [
            "{'Mon', 'Sat', 'Sun', 'Thu', 'Fri', 'Tue', 'Wed'}\n",
            "{'Mar', 'Jan', 'Feb'}\n",
            "{17, 21, 22}\n"
          ]
        }
      ],
      "source": [
        "Days=set([\"Mon\",\"Tue\",\"Wed\",\"Thu\",\"Fri\",\"Sat\",\"Sun\"])\n",
        "Months={\"Jan\",\"Feb\",\"Mar\"}\n",
        "Dates={21,22,17}\n",
        "print(Days)\n",
        "print(Months)\n",
        "print(Dates)"
      ]
    },
    {
      "cell_type": "markdown",
      "metadata": {
        "id": "xd6LbXaV6lND"
      },
      "source": [
        "ACCESSING VALUES IN A SET"
      ]
    },
    {
      "cell_type": "code",
      "execution_count": 2,
      "metadata": {
        "colab": {
          "base_uri": "https://localhost:8080/"
        },
        "id": "ydn2ZGgb6nPw",
        "outputId": "14779b63-337d-4822-ef39-60c32bdb1db4"
      },
      "outputs": [
        {
          "name": "stdout",
          "output_type": "stream",
          "text": [
            "Mon\n",
            "Sat\n",
            "Sun\n",
            "Thu\n",
            "Fri\n",
            "Tue\n",
            "Wed\n"
          ]
        }
      ],
      "source": [
        "Days=set([\"Mon\",\"Tue\",\"Wed\",\"Thu\",\"Fri\",\"Sat\",\"Sun\"])\n",
        "for d in Days:\n",
        " print(d)"
      ]
    },
    {
      "cell_type": "markdown",
      "metadata": {
        "id": "5bMjSxIx6wfa"
      },
      "source": [
        "ADDING & REMOVING ITEMS TO A SET"
      ]
    },
    {
      "cell_type": "code",
      "execution_count": 3,
      "metadata": {
        "colab": {
          "base_uri": "https://localhost:8080/"
        },
        "id": "LrtgiHKV60CW",
        "outputId": "50d2b3b5-2e24-437e-b3f9-c96138d53055"
      },
      "outputs": [
        {
          "name": "stdout",
          "output_type": "stream",
          "text": [
            "{'Mon', 'Sat', 'Sun', 'Thu', 'Fri', 'Tue', 'Wed'}\n"
          ]
        }
      ],
      "source": [
        "Days=set([\"Mon\",\"Tue\",\"Wed\",\"Thu\",\"Fri\",\"Sat\"])\n",
        "Days.add(\"Sun\")\n",
        "print(Days)"
      ]
    },
    {
      "cell_type": "code",
      "execution_count": 4,
      "metadata": {
        "colab": {
          "base_uri": "https://localhost:8080/"
        },
        "id": "82D4CCG062zd",
        "outputId": "eb78d2f0-f637-46c1-db53-12e39277abf5"
      },
      "outputs": [
        {
          "name": "stdout",
          "output_type": "stream",
          "text": [
            "{'Mon', 'Sat', 'Thu', 'Fri', 'Tue', 'Wed'}\n"
          ]
        }
      ],
      "source": [
        "Days=set([\"Mon\",\"Tue\",\"Wed\",\"Thu\",\"Fri\",\"Sat\"])\n",
        "Days.discard(\"Sun\")\n",
        "print(Days)"
      ]
    },
    {
      "cell_type": "markdown",
      "metadata": {
        "id": "UgzIw6ri65vd"
      },
      "source": [
        "UNION, INTERSECTION, AND DIFFERENCE OF SETS"
      ]
    },
    {
      "cell_type": "code",
      "execution_count": 5,
      "metadata": {
        "colab": {
          "base_uri": "https://localhost:8080/"
        },
        "id": "84BtPJbp69bX",
        "outputId": "0b5613fc-74ce-45fb-b4bd-448aeefc381d"
      },
      "outputs": [
        {
          "name": "stdout",
          "output_type": "stream",
          "text": [
            "{'Mon', 'Sat', 'Sun', 'Thu', 'Fri', 'Tue', 'Wed'}\n",
            "{'Wed'}\n",
            "{'Tue', 'Mon'}\n"
          ]
        }
      ],
      "source": [
        "DaysA = set([\"Mon\",\"Tue\",\"Wed\"])\n",
        "DaysB = set([\"Wed\",\"Thu\",\"Fri\",\"Sat\",\"Sun\"])\n",
        "print(DaysA|DaysB) # equals with print(DaysA.union(DaysB))\n",
        "print(DaysA & DaysB) # equals with print(DaysA.intersection(DaysB))\n",
        "print(DaysA - DaysB) # equals with print(DaysA.difference(DaysB)"
      ]
    },
    {
      "cell_type": "markdown",
      "metadata": {
        "id": "Y9yeKsWf6_sx"
      },
      "source": [
        "**CHOOSING DATA STRUCTURES**"
      ]
    },
    {
      "cell_type": "markdown",
      "metadata": {
        "id": "FMhr0eOR8hP-"
      },
      "source": [
        "USING LIST OF TUPLES"
      ]
    },
    {
      "cell_type": "code",
      "execution_count": 14,
      "metadata": {
        "colab": {
          "base_uri": "https://localhost:8080/"
        },
        "id": "gPTRkfNz8l4h",
        "outputId": "ddb9088d-8a17-4c8b-a359-825ba90dbf6e"
      },
      "outputs": [
        {
          "name": "stdout",
          "output_type": "stream",
          "text": [
            "{'id': 12458, 'name': 'Paul', 'department': 'House Floor'}\n"
          ]
        }
      ],
      "source": [
        "employee_list = [(12345, \"John\", \"Kitchen\"), (12458, \"Paul\", \"House Floor\")]\n",
        "def get_employee(id):\n",
        " for employee in employee_list:\n",
        "  if employee[0] == id:\n",
        "    return {\"id\": employee[0], \"name\": employee[1], \"department\": employee[2]}\n",
        "print(get_employee(12458))"
      ]
    },
    {
      "cell_type": "markdown",
      "metadata": {
        "id": "JVuKoEr78n_T"
      },
      "source": [
        "USING DICTIONARY"
      ]
    },
    {
      "cell_type": "code",
      "execution_count": 7,
      "metadata": {
        "colab": {
          "base_uri": "https://localhost:8080/"
        },
        "id": "VHJ8HR3E8qhE",
        "outputId": "d0de6ad6-346e-44db-821a-8c39dddf08d2"
      },
      "outputs": [
        {
          "name": "stdout",
          "output_type": "stream",
          "text": [
            "{'id': '12458', 'name': 'Paul', 'department': 'House Floor'}\n"
          ]
        }
      ],
      "source": [
        "employee_dict = {\n",
        " 12345: {\n",
        " \"id\": \"12345\",\n",
        " \"name\": \"John\",\n",
        " \"department\": \"Kitchen\"\n",
        " },\n",
        " 12458: {\n",
        " \"id\": \"12458\",\n",
        " \"name\": \"Paul\",\n",
        " \"department\": \"House Floor\"\n",
        " }\n",
        "}\n",
        "def get_employee_from_dict(id):\n",
        " return employee_dict[id];\n",
        "print(get_employee_from_dict(12458));"
      ]
    }
  ],
  "metadata": {
    "colab": {
      "provenance": []
    },
    "kernelspec": {
      "display_name": "Python 3",
      "name": "python3"
    },
    "language_info": {
      "name": "python"
    }
  },
  "nbformat": 4,
  "nbformat_minor": 0
}
