{
 "cells": [
  {
   "cell_type": "markdown",
   "metadata": {},
   "source": [
    "#Nama   : Adinda Rahmawati\n",
    "#NIM    : J0403231050\n",
    "#Kelas  : B-1\n",
    "#Prodi  : Teknologi Rekayasa Perangkat Lunak\n",
    "#Email  : rahmawati4487@gmail.com"
   ]
  },
  {
   "cell_type": "markdown",
   "metadata": {},
   "source": [
    "Built-in Methods of Tuples"
   ]
  },
  {
   "cell_type": "code",
   "execution_count": null,
   "metadata": {},
   "outputs": [],
   "source": [
    "tup=(9,6,'g','Python',7.4)\n",
    "\n",
    "print(len(tup))\n",
    "print(tup.index('g'))\n",
    "print(tup.count('a'))"
   ]
  },
  {
   "cell_type": "markdown",
   "metadata": {},
   "source": [
    "Output :\n",
    "5\n",
    "2\n",
    "0"
   ]
  },
  {
   "cell_type": "markdown",
   "metadata": {},
   "source": []
  },
  {
   "cell_type": "markdown",
   "metadata": {},
   "source": [
    "Creating Tuples"
   ]
  },
  {
   "cell_type": "code",
   "execution_count": null,
   "metadata": {},
   "outputs": [],
   "source": [
    "# Create a tuple using round brackets\n",
    "t1 = (1, 2, 3, 4)\n",
    "\n",
    "# Create a tuple from a list the tuple() constructor\n",
    "t2 = tuple([1, 2, 3, 4, 5])\n",
    "\n",
    "# Create a tuple using the tuple() constructor\n",
    "t3 = tuple([1, 2, 3, 4, 5, 6])\n",
    "\n",
    "# Print out tuples\n",
    "print(f\"Tuple t1: {t1}\")\n",
    "print(f\"Tuple t2: {t2}\")\n",
    "print(f\"Tuple t3: {t3}\")"
   ]
  },
  {
   "cell_type": "markdown",
   "metadata": {},
   "source": [
    "Output :\n",
    "Tuple t1: (1, 2, 3, 4)\n",
    "Tuple t2: (1, 2, 3, 4, 5)\n",
    "Tuple t3: (1, 2, 3, 4, 5, 6)"
   ]
  },
  {
   "cell_type": "markdown",
   "metadata": {},
   "source": []
  },
  {
   "cell_type": "markdown",
   "metadata": {},
   "source": [
    "Accessing Values in Tuples"
   ]
  },
  {
   "cell_type": "code",
   "execution_count": null,
   "metadata": {},
   "outputs": [],
   "source": [
    "tup1 = ('physics', 'chemistry', 1997, 2000);\n",
    "tup2 = (1, 2, 3, 4, 5, 6, 7 );\n",
    "\n",
    "print (\"tup1[0]: \", tup1[0])\n",
    "print (\"tup2[1:5]: \", tup2[1:5])"
   ]
  },
  {
   "cell_type": "markdown",
   "metadata": {},
   "source": [
    "Output :\n",
    "tup1[0]:  physics\n",
    "tup2[1:5]:  (2, 3, 4, 5)"
   ]
  },
  {
   "cell_type": "markdown",
   "metadata": {},
   "source": []
  },
  {
   "cell_type": "markdown",
   "metadata": {},
   "source": [
    "Updating Tuples"
   ]
  },
  {
   "cell_type": "code",
   "execution_count": null,
   "metadata": {},
   "outputs": [],
   "source": [
    "tup1 = (12, 34.56);\n",
    "tup2 = ('abc', 'xyz');\n",
    "\n",
    "# Following action is NOT VALID for tuples\n",
    "# tup1[0] = 100;\n",
    "\n",
    "# So let's create a new tuple as follows\n",
    "tup3 = tup1 + tup2;\n",
    "print (tup3);"
   ]
  },
  {
   "cell_type": "markdown",
   "metadata": {},
   "source": [
    "Output :\n",
    "(12, 34.56, 'abc', 'xyz')"
   ]
  },
  {
   "cell_type": "markdown",
   "metadata": {},
   "source": []
  },
  {
   "cell_type": "markdown",
   "metadata": {},
   "source": [
    "Delete Tuple Elements"
   ]
  },
  {
   "cell_type": "code",
   "execution_count": null,
   "metadata": {},
   "outputs": [],
   "source": [
    "tup = ('physics', 'chemistry', 1997, 2000);\n",
    "print (tup);\n",
    "del tup;\n",
    "print (\"After deleting tup : \");\n",
    "print (tup); # an exception raised, because after del tup tuple does not exist anymore"
   ]
  },
  {
   "cell_type": "markdown",
   "metadata": {},
   "source": [
    "Output : eror"
   ]
  },
  {
   "cell_type": "markdown",
   "metadata": {},
   "source": []
  },
  {
   "cell_type": "markdown",
   "metadata": {},
   "source": [
    "Changing Python tuple value by using list()"
   ]
  },
  {
   "cell_type": "code",
   "execution_count": null,
   "metadata": {},
   "outputs": [],
   "source": [
    "tup=(1,2,3,4,5)\n",
    "\n",
    "list1=list(tup)\n",
    "list1[4]=6\n",
    "\n",
    "tup=tuple(list1)\n",
    "\n",
    "print(tup)\n"
   ]
  },
  {
   "cell_type": "markdown",
   "metadata": {},
   "source": [
    "Output : (1, 2, 3, 4, 6)"
   ]
  },
  {
   "cell_type": "markdown",
   "metadata": {},
   "source": []
  },
  {
   "cell_type": "markdown",
   "metadata": {},
   "source": [
    "Tuple Packing and Unpacking"
   ]
  },
  {
   "cell_type": "code",
   "execution_count": null,
   "metadata": {},
   "outputs": [],
   "source": [
    "tup=1,2,3 #packing\n",
    "\n",
    "print(\"The type of \",tup,\"is:\",type(tup))\n",
    "\n",
    "a,b,c=tup #unpacking\n",
    "\n",
    "print(a)\n",
    "print(b)\n",
    "print(c)"
   ]
  },
  {
   "cell_type": "markdown",
   "metadata": {},
   "source": [
    "Output :\n",
    "The type of  (1, 2, 3) is: <class 'tuple'>\n",
    "1\n",
    "2\n",
    "3"
   ]
  }
 ],
 "metadata": {
  "kernelspec": {
   "display_name": "Python 3",
   "language": "python",
   "name": "python3"
  },
  "language_info": {
   "name": "python",
   "version": "3.11.6"
  },
  "orig_nbformat": 4
 },
 "nbformat": 4,
 "nbformat_minor": 2
}
