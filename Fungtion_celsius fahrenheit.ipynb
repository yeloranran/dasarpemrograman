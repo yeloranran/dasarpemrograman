{
 "cells": [
  {
   "cell_type": "markdown",
   "metadata": {},
   "source": [
    "#Nama   : Adinda Rahmawati \n",
    "#NIM    : J0403231050\n",
    "#Kelas  : B-1\n",
    "#Prodi  : Teknologi Rekayasa Perangkat Lunak"
   ]
  },
  {
   "cell_type": "code",
   "execution_count": null,
   "metadata": {},
   "outputs": [],
   "source": [
    "\n",
    "\n",
    "def konversi_suhu():\n",
    "    try:\n",
    "        suhu = float(input(\"Masukkan nilai suhu: \"))\n",
    "        skala_awal = input(\"Pilih skala awal ('C' untuk Celsius, 'F' untuk Fahrenheit): \").upper()\n",
    "\n",
    "        if skala_awal not in ('C', 'F'):\n",
    "            raise ValueError(\"Skala awal yang dimasukkan tidak valid. Gunakan 'C' untuk Celsius atau 'F' untuk Fahrenheit.\")\n",
    "\n",
    "        if skala_awal == 'C':\n",
    "            suhu_terkonversi = (suhu * 9/5) + 32\n",
    "            skala_terkonversi = 'Fahrenheit'\n",
    "        else:\n",
    "            suhu_terkonversi = (suhu - 32) * 5/9\n",
    "            skala_terkonversi = 'Celsius'\n",
    "\n",
    "        print(f\"Nilai suhu yang sudah dikonversi: {suhu_terkonversi} {skala_terkonversi}\")\n",
    "    except ValueError as e:\n",
    "        print(f\"Terjadi kesalahan: {e}\")\n",
    "\n",
    "# Contoh penggunaan\n",
    "if __name__ == \"__main__\":\n",
    "    konversi_suhu()"
   ]
  }
 ],
 "metadata": {
  "language_info": {
   "name": "python"
  },
  "orig_nbformat": 4
 },
 "nbformat": 4,
 "nbformat_minor": 2
}
