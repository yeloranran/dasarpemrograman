{
 "cells": [
  {
   "cell_type": "markdown",
   "metadata": {},
   "source": [
    "# Nama  : Adinda Rahmawati\n",
    "#NIM    : J0403231050\n",
    "#Kelas  : B-1\n",
    "#Prodi  : Teknologi Rekayasa Perangkat Lunak"
   ]
  },
  {
   "cell_type": "code",
   "execution_count": null,
   "metadata": {},
   "outputs": [],
   "source": [
    "\n",
    "def kalkulator():\n",
    "    try:\n",
    "        operator = input(\"Masukkan operator aritmatika (+, -, *, /): \")\n",
    "        if operator not in ('+', '-', '*', '/'):\n",
    "            raise ValueError(\"Operator yang dimasukkan tidak valid.\")\n",
    "\n",
    "        angka = input(\"Berikan angka yang akan dioperasikan, pisahkan dengan spasi: \")\n",
    "        angka = [float(x) for x in angka.split()]\n",
    "\n",
    "        if not angka:\n",
    "            raise ValueError(\"Tidak ada angka yang diberikan.\")\n",
    "\n",
    "        if operator == '+':\n",
    "            hasil = sum(angka)\n",
    "        elif operator == '-':\n",
    "            hasil = angka[0] - sum(angka[1:])\n",
    "        elif operator == '*':\n",
    "            hasil = 1\n",
    "            for num in angka:\n",
    "                hasil *= num\n",
    "        elif operator == '/':\n",
    "            if 0 in angka[1:]:\n",
    "                raise ValueError(\"Pembagian oleh nol tidak diperbolehkan.\")\n",
    "            hasil = angka[0]\n",
    "            for num in angka[1:]:\n",
    "                hasil /= num\n",
    "\n",
    "        print(f\"Hasil: {hasil}\")\n",
    "    except ValueError as e:\n",
    "        print(f\"Terjadi kesalahan: {e}\")\n",
    "\n",
    "# Contoh penggunaan\n",
    "if __name__ == \"__main__\":\n",
    "    kalkulator()\n"
   ]
  }
 ],
 "metadata": {
  "language_info": {
   "name": "python"
  },
  "orig_nbformat": 4
 },
 "nbformat": 4,
 "nbformat_minor": 2
}
